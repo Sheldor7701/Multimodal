{
 "cells": [
  {
   "cell_type": "code",
   "execution_count": 64,
   "metadata": {},
   "outputs": [],
   "source": [
    "# import libraries\n",
    "import numpy as np\n",
    "import pandas as pd\n",
    "import matplotlib.pyplot as plt\n",
    "import seaborn as sns\n",
    "from sklearn.model_selection import train_test_split\n",
    "import torch\n",
    "from torch import nn\n",
    "from torch import optim\n",
    "import torch.nn.functional as F\n",
    "from torchvision import datasets, transforms, models\n",
    "from torch.utils.data import Dataset, DataLoader\n",
    "from sklearn.preprocessing import StandardScaler\n"
   ]
  },
  {
   "cell_type": "code",
   "execution_count": 65,
   "metadata": {},
   "outputs": [],
   "source": [
    "import random\n",
    "\n",
    "def set_seed(seed):\n",
    "    random.seed(seed)  # Set the seed for Python's random module\n",
    "    np.random.seed(seed)  # Set the seed for NumPy\n",
    "    torch.manual_seed(seed)  # Set the seed for PyTorch\n",
    "    if torch.cuda.is_available():\n",
    "        torch.cuda.manual_seed(seed)  # Set the seed for CUDA\n",
    "        torch.cuda.manual_seed_all(seed)  # For multi-GPU setups\n",
    "        # Enable deterministic behavior\n",
    "        torch.backends.cudnn.deterministic = True\n",
    "        torch.backends.cudnn.benchmark = False\n",
    "\n",
    "set_seed(4)"
   ]
  },
  {
   "cell_type": "code",
   "execution_count": 66,
   "metadata": {},
   "outputs": [
    {
     "name": "stdout",
     "output_type": "stream",
     "text": [
      "\n",
      "Balanced shapes of modalities:\n",
      "(1592, 19)\n",
      "(1592, 500)\n",
      "(1592, 500)\n",
      "(1592, 500)\n",
      "(1592, 500)\n",
      "(1592, 800)\n",
      "Labels: (1592,)\n",
      "\n",
      "Class distribution after balancing:\n",
      "Positive samples: 796\n",
      "Negative samples: 796\n"
     ]
    }
   ],
   "source": [
    "# load 6 modalites data \n",
    "from sklearn.utils import resample\n",
    "import numpy as np\n",
    "import pandas as pd\n",
    "\n",
    "def load_data():\n",
    "    cln_data = pd.read_csv('data/raw_features_cln.csv')\n",
    "    cnv_data = pd.read_csv('data/raw_features_cnv.csv')\n",
    "    dna_data = pd.read_csv('data/raw_features_dna.csv')\n",
    "    mir_data = pd.read_csv('data/raw_features_mir.csv')\n",
    "    mrna_data = pd.read_csv('data/raw_features_mrna.csv')\n",
    "    wsi_data = pd.read_csv('data/raw_features_wsi.csv')\n",
    "\n",
    "    # keep data where all modalities are present based on patient id\n",
    "    patient_ids = set(cln_data['submitter_id.samples'])\n",
    "    patient_ids = patient_ids.intersection(set(cnv_data['submitter_id.samples']))\n",
    "    patient_ids = patient_ids.intersection(set(dna_data['submitter_id.samples']))\n",
    "    patient_ids = patient_ids.intersection(set(mir_data['submitter_id.samples']))\n",
    "    patient_ids = patient_ids.intersection(set(mrna_data['submitter_id.samples']))\n",
    "    patient_ids = patient_ids.intersection(set(wsi_data['submitter_id.samples']))\n",
    "\n",
    "    cln_data = cln_data[cln_data['submitter_id.samples'].isin(patient_ids)].reset_index(drop=True)\n",
    "    cnv_data = cnv_data[cnv_data['submitter_id.samples'].isin(patient_ids)].reset_index(drop=True)\n",
    "    dna_data = dna_data[dna_data['submitter_id.samples'].isin(patient_ids)].reset_index(drop=True)\n",
    "    mir_data = mir_data[mir_data['submitter_id.samples'].isin(patient_ids)].reset_index(drop=True)\n",
    "    mrna_data = mrna_data[mrna_data['submitter_id.samples'].isin(patient_ids)].reset_index(drop=True)\n",
    "    wsi_data = wsi_data[wsi_data['submitter_id.samples'].isin(patient_ids)].reset_index(drop=True)\n",
    "\n",
    "    # sort data by patient id\n",
    "    cln_data = cln_data.sort_values('submitter_id.samples').reset_index(drop=True)\n",
    "    cnv_data = cnv_data.sort_values('submitter_id.samples').reset_index(drop=True)\n",
    "    dna_data = dna_data.sort_values('submitter_id.samples').reset_index(drop=True)\n",
    "    mir_data = mir_data.sort_values('submitter_id.samples').reset_index(drop=True)\n",
    "    mrna_data = mrna_data.sort_values('submitter_id.samples').reset_index(drop=True)\n",
    "    wsi_data = wsi_data.sort_values('submitter_id.samples').reset_index(drop=True)\n",
    "\n",
    "    # make sure the labels column match for all modalities\n",
    "    cln_labels = cln_data['label_cln']\n",
    "    cnv_labels = cnv_data['label_cnv']\n",
    "    dna_labels = dna_data['label_dna']\n",
    "    mir_labels = mir_data['label_mir']\n",
    "    mrna_labels = mrna_data['label_mrna']\n",
    "    wsi_labels = wsi_data['label_wsi']\n",
    "\n",
    "    assert np.all(cln_labels == cnv_labels), \"Labels mismatch between clinical and CNV data\"\n",
    "    assert np.all(cln_labels == dna_labels), \"Labels mismatch between clinical and DNA data\"\n",
    "    assert np.all(cln_labels == mir_labels), \"Labels mismatch between clinical and miRNA data\"\n",
    "    assert np.all(cln_labels == mrna_labels), \"Labels mismatch between clinical and mRNA data\"\n",
    "    # assert np.all(cln_labels == wsi_labels), \"Labels mismatch between clinical and WSI data\"\n",
    "\n",
    "    # drop labels column and patient id column\n",
    "    cln_data = cln_data.drop(columns=['label_cln', 'submitter_id.samples'])\n",
    "    cnv_data = cnv_data.drop(columns=['label_cnv', 'submitter_id.samples'])\n",
    "    dna_data = dna_data.drop(columns=['label_dna', 'submitter_id.samples'])\n",
    "    mir_data = mir_data.drop(columns=['label_mir', 'submitter_id.samples'])\n",
    "    mrna_data = mrna_data.drop(columns=['label_mrna', 'submitter_id.samples'])\n",
    "    wsi_data = wsi_data.drop(columns=['label_wsi', 'submitter_id.samples'])\n",
    "\n",
    "    # normalize data\n",
    "    stdscalar = StandardScaler()\n",
    "    cln_data = stdscalar.fit_transform(cln_data)\n",
    "    cnv_data = stdscalar.fit_transform(cnv_data)\n",
    "    dna_data = stdscalar.fit_transform(dna_data)\n",
    "    mir_data = stdscalar.fit_transform(mir_data)\n",
    "    mrna_data = stdscalar.fit_transform(mrna_data)\n",
    "    wsi_data = stdscalar.fit_transform(wsi_data)\n",
    "\n",
    "    return cln_data, cnv_data, dna_data, mir_data, mrna_data, wsi_data, cln_labels\n",
    "\n",
    "\n",
    "from imblearn.over_sampling import SMOTE\n",
    "from sklearn.preprocessing import StandardScaler\n",
    "\n",
    "def balance_modality_data(features_list, labels, method='SMOTE'):\n",
    "    \"\"\"\n",
    "    Balances the dataset for each modality separately.\n",
    "    \n",
    "    Parameters:\n",
    "    - features_list: List of feature matrices, one for each modality.\n",
    "    - labels: Binary labels (numpy array or Series).\n",
    "    - method: Balancing method ('SMOTE' supported here).\n",
    "    \n",
    "    Returns:\n",
    "    - Separate balanced feature matrices for each modality.\n",
    "    - Balanced labels (same across all modalities).\n",
    "    \"\"\"\n",
    "    smote = SMOTE(random_state=42)\n",
    "    balanced_features_list = []\n",
    "    \n",
    "    for modality_features in features_list:\n",
    "        # Balance the current modality's features and labels\n",
    "        balanced_modality_features, balanced_labels = smote.fit_resample(modality_features, labels)\n",
    "        balanced_features_list.append(balanced_modality_features)\n",
    "    \n",
    "    # Unpack balanced features into separate variables and return them\n",
    "    return (balanced_features_list, balanced_labels)\n",
    "\n",
    "if __name__ == '__main__':\n",
    "    # Load the data\n",
    "    cln_data, cnv_data, dna_data, mir_data, mrna_data, wsi_data, labels = load_data()\n",
    "    \n",
    "    # List of modalities\n",
    "    features_list = [cln_data, cnv_data, dna_data, mir_data, mrna_data, wsi_data]\n",
    "    \n",
    "    # Balance the modalities and unpack them\n",
    "    balanced_data, balanced_labels = balance_modality_data(features_list, labels, method='SMOTE')\n",
    "    \n",
    "    # Print shapes\n",
    "    print(\"\\nBalanced shapes of modalities:\")\n",
    "    for data in balanced_data:\n",
    "        print(data.shape)\n",
    "    print(f\"Labels: {balanced_labels.shape}\")\n",
    "\n",
    "    # Class distribution\n",
    "    print(\"\\nClass distribution after balancing:\")\n",
    "    print(f\"Positive samples: {np.sum(balanced_labels == 1)}\")\n",
    "    print(f\"Negative samples: {np.sum(balanced_labels == 0)}\")\n",
    "\n"
   ]
  },
  {
   "cell_type": "code",
   "execution_count": 67,
   "metadata": {},
   "outputs": [],
   "source": [
    "import torch\n",
    "from torch.utils.data import DataLoader, Dataset\n",
    "from sklearn.model_selection import train_test_split\n",
    "\n",
    "# Define a MultimodalDataset class if not already defined\n",
    "class MultimodalDataset(Dataset):\n",
    "    def __init__(self, *modalities, labels):\n",
    "        self.modalities = modalities\n",
    "        self.labels = labels\n",
    "\n",
    "    def __len__(self):\n",
    "        return len(self.labels)\n",
    "\n",
    "    def __getitem__(self, idx):\n",
    "        return tuple(modality[idx] for modality in self.modalities) + (self.labels[idx],)\n",
    "\n",
    "\n",
    "def load_and_split_data(modalities, labels, test_size=0.2, random_state=42):\n",
    "    \"\"\"\n",
    "    Splits the data into train and test sets, and balances the test set.\n",
    "    \"\"\"\n",
    "    # Split the data into train and test sets\n",
    "    train_modalities, test_modalities = [], []\n",
    "    for modality in modalities:\n",
    "        train, test = train_test_split(modality, test_size=test_size, random_state=random_state)\n",
    "        train_modalities.append(train)\n",
    "        test_modalities.append(test)\n",
    "\n",
    "    labels_train, labels_test = train_test_split(labels, test_size=test_size, random_state=random_state)\n",
    "\n",
    "    return train_modalities, test_modalities, labels_train, labels_test\n",
    "\n",
    "# Function to convert data to tensors\n",
    "def convert_to_tensors(data):\n",
    "    return [torch.tensor(modality, dtype=torch.float32) for modality in data]\n",
    "\n",
    "# Main code\n",
    "def get_train_test_loader():\n",
    "    # Load the data\n",
    "    cln_data, cnv_data, dna_data, mir_data, mrna_data, wsi_data, labels = load_data()\n",
    "    modalities = [cln_data, cnv_data, dna_data, mir_data, mrna_data, wsi_data]\n",
    "    balanced_data, labels = balance_modality_data(modalities, labels)\n",
    "    modalities = []\n",
    "    for data in balanced_data:\n",
    "        modalities.append(data)\n",
    "    # modalities = [cln_data, cnv_data, dna_data, mir_data, mrna_data, wsi_data]\n",
    "    # Split data\n",
    "    train_modalities, test_modalities, labels_train, labels_test = load_and_split_data(modalities, labels)\n",
    "\n",
    "    # train_modalities, labels_train = balance_modality_data(train_modalities, labels_train)\n",
    "    # test_modalities, labels_test = balance_modality_data(test_modalities, labels_test)\n",
    "\n",
    "    # Convert data to tensors\n",
    "    train_tensors = convert_to_tensors(train_modalities)\n",
    "    test_tensors = convert_to_tensors(test_modalities)\n",
    "    labels_train = torch.tensor(labels_train, dtype=torch.long)\n",
    "    labels_test = torch.tensor(labels_test.to_numpy(), dtype=torch.long)\n",
    "\n",
    "    # Create datasets and dataloaders\n",
    "    train_dataset = MultimodalDataset(*train_tensors, labels=labels_train)\n",
    "    test_dataset = MultimodalDataset(*test_tensors, labels=labels_test)\n",
    "\n",
    "    batch_size = 64\n",
    "    train_loader = DataLoader(train_dataset, batch_size=batch_size, shuffle=True)\n",
    "    test_loader = DataLoader(test_dataset, batch_size=batch_size, shuffle=False)\n",
    "\n",
    "    return train_modalities, test_modalities, labels_train, labels_test, train_loader, test_loader\n",
    "\n",
    "# Run the main function\n",
    "train_modalities, test_modalities, labels_train, labels_test,_,_ = get_train_test_loader()\n"
   ]
  },
  {
   "cell_type": "code",
   "execution_count": 68,
   "metadata": {},
   "outputs": [],
   "source": [
    "class ModalityEncoder(nn.Module):\n",
    "    def __init__(self, input_dim, embed_dim, num_heads, num_layers):\n",
    "        super(ModalityEncoder, self).__init__()\n",
    "        self.embedding = nn.Linear(input_dim, embed_dim)\n",
    "        self.transformer = nn.TransformerEncoder(\n",
    "            nn.TransformerEncoderLayer(d_model=embed_dim, nhead=num_heads),\n",
    "            num_layers=num_layers\n",
    "        )\n",
    "    \n",
    "    def forward(self, x):\n",
    "        \"\"\"\n",
    "        Args:\n",
    "            x: Input tensor of shape (batch_size, seq_len, input_dim) or (batch_size, input_dim).\n",
    "        Returns:\n",
    "            Encoded tensor of shape (seq_len, batch_size, embed_dim).\n",
    "        \"\"\"\n",
    "        # If input is 2D (batch_size, input_dim), add a dummy seq_len dimension\n",
    "        if x.dim() == 2:\n",
    "            x = x.unsqueeze(1)  # Shape becomes (batch_size, 1, input_dim)\n",
    "        \n",
    "        # Embed and transpose for Transformer\n",
    "        x = self.embedding(x)  # Shape: (batch_size, seq_len, embed_dim)\n",
    "        x = x.transpose(0, 1)  # Transformer expects (seq_len, batch_size, embed_dim)\n",
    "        \n",
    "        # Pass through the Transformer\n",
    "        x = self.transformer(x)\n",
    "        return x"
   ]
  },
  {
   "cell_type": "code",
   "execution_count": 69,
   "metadata": {},
   "outputs": [],
   "source": [
    "class CrossAttentionLayer(nn.Module):\n",
    "    def __init__(self, embed_dim, num_heads):\n",
    "        super(CrossAttentionLayer, self).__init__()\n",
    "        self.multihead_attn = nn.MultiheadAttention(embed_dim=embed_dim, num_heads=num_heads)\n",
    "\n",
    "    def forward(self, query, key, value):\n",
    "        \"\"\"\n",
    "        Args:\n",
    "            query: Tensor of shape (seq_len, batch_size, embed_dim).\n",
    "            key, value: Tensors of shape (seq_len, batch_size, embed_dim).\n",
    "        Returns:\n",
    "            Fused representation of shape (seq_len, batch_size, embed_dim).\n",
    "        \"\"\"\n",
    "        attn_output, _ = self.multihead_attn(query, key, value)\n",
    "        return attn_output"
   ]
  },
  {
   "cell_type": "code",
   "execution_count": 70,
   "metadata": {},
   "outputs": [],
   "source": [
    "import torch\n",
    "from torch.utils.data import DataLoader\n",
    "from sklearn.metrics import accuracy_score, roc_auc_score, f1_score, precision_score, roc_curve, precision_recall_curve\n",
    "from sklearn.metrics import recall_score, matthews_corrcoef, average_precision_score, confusion_matrix\n",
    "\n",
    "# Function to evaluate the model\n",
    "def test_model(model, test_loader, device=\"cpu\"):\n",
    "    model.eval()  # Set model to evaluation mode\n",
    "    all_preds = []\n",
    "    all_targets = []\n",
    "    all_probs = []\n",
    "\n",
    "    with torch.no_grad():\n",
    "        for batch in test_loader:\n",
    "            # Unpack modalities and labels from the batch\n",
    "            modalities = [modality.to(device) for modality in batch[:-1]]\n",
    "            labels = batch[-1].to(device)\n",
    "\n",
    "            # Forward pass\n",
    "            _,outputs = model(modalities)\n",
    "            probs = torch.sigmoid(outputs).squeeze()  # Apply sigmoid for binary classification probabilities\n",
    "\n",
    "            # Predictions (threshold at 0.5)\n",
    "            preds = (probs >= 0.52).long()\n",
    "\n",
    "            # Collect predictions and targets\n",
    "            all_preds.extend(preds.cpu().numpy())\n",
    "            all_probs.extend(probs.cpu().numpy())\n",
    "            all_targets.extend(labels.cpu().numpy())\n",
    "\n",
    "    # Calculate metrics\n",
    "    accuracy = accuracy_score(all_targets, all_preds)\n",
    "    auc = roc_auc_score(all_targets, all_probs)\n",
    "    f1 = f1_score(all_targets, all_preds)\n",
    "    precision = precision_score(all_targets, all_preds)\n",
    "    recall = recall_score(all_targets, all_preds)\n",
    "    mcc = matthews_corrcoef(all_targets, all_preds)\n",
    "    auprc = average_precision_score(all_targets, all_probs)\n",
    "    cm = confusion_matrix(all_targets, all_preds)\n",
    "    specificity = cm[0, 0] / cm[0, :].sum()  \n",
    "\n",
    "    print(\"Test Metrics:\")\n",
    "    print(f\"Accuracy: {accuracy:.4f}\")\n",
    "    print(f\"AUC: {auc:.4f}\")\n",
    "    print(f\"F1 Score: {f1:.4f}\")\n",
    "    print(f\"Precision: {precision:.4f}\")\n",
    "    print(f\"Recall: {recall:.4f}\")\n",
    "    print(f\"Specificity: {specificity:.4f}\")\n",
    "    print(f\"MCC: {mcc:.4f}\")\n",
    "    print(f\"AUPRC: {auprc:.4f}\")\n",
    "\n",
    "    # plot confusion matrix\n",
    "    sns.heatmap(cm, annot=True, fmt='d', cmap='Blues', cbar=False)\n",
    "    plt.xlabel('Predicted')\n",
    "    plt.ylabel('True')\n",
    "    plt.title('Confusion Matrix')\n",
    "    plt.show()\n",
    "\n",
    "    return {\n",
    "        \"accuracy\": accuracy,\n",
    "        \"auc\": auc,\n",
    "        \"f1\": f1,\n",
    "        \"precision\": precision,\n",
    "        \"recall\": recall,\n",
    "        \"specificity\": specificity,\n",
    "        \"mcc\": mcc,\n",
    "        \"auprc\": auprc\n",
    "    }"
   ]
  },
  {
   "cell_type": "code",
   "execution_count": 71,
   "metadata": {},
   "outputs": [],
   "source": [
    "# import torch\n",
    "# import torch.nn as nn\n",
    "# import torch.nn.functional as F\n",
    "# import torch.optim as optim\n",
    "# from tqdm import tqdm\n",
    "\n",
    "\n",
    "# # Multimodal Model\n",
    "# class MultimodalModel(nn.Module):\n",
    "#     def __init__(self, input_dims, embed_dim, num_heads, num_layers):\n",
    "#         super(MultimodalModel, self).__init__()\n",
    "        \n",
    "#         # Modality encoders for each input\n",
    "#         self.modality_encoders = nn.ModuleList([\n",
    "#             ModalityEncoder(input_dim, embed_dim, num_heads, num_layers) for input_dim in input_dims\n",
    "#         ])\n",
    "        \n",
    "#         # Cross-attention layer\n",
    "#         self.cross_attention = CrossAttentionLayer(embed_dim, num_heads)\n",
    "        \n",
    "#         # Final classification head\n",
    "#         self.classification_head = nn.Sequential(\n",
    "#             nn.Linear(embed_dim, embed_dim),\n",
    "#             nn.ReLU(),\n",
    "#             nn.Linear(embed_dim, 1),  # Output 1 value per sample (for binary classification)\n",
    "#             nn.Sigmoid()  # Sigmoid activation for BCE loss\n",
    "#         )\n",
    "\n",
    "\n",
    "#     def forward(self, modalities):\n",
    "#         \"\"\"\n",
    "#         Args:\n",
    "#             modalities: List of tensors, one for each modality.\n",
    "#                         Each tensor should have shape (batch_size, seq_len, input_dim)\n",
    "#                         or (batch_size, input_dim).\n",
    "#         Returns:\n",
    "#             Predictions: Tensor of shape (batch_size, 1).\n",
    "#         \"\"\"\n",
    "#         # Encode each modality\n",
    "#         encoded_modalities = [\n",
    "#             encoder(modality) for encoder, modality in zip(self.modality_encoders, modalities)\n",
    "#         ]\n",
    "\n",
    "#         # Apply cross-attention for each modality as the query\n",
    "#         fused_representations = []\n",
    "#         for i, query in enumerate(encoded_modalities):\n",
    "#             # Use all other modalities as keys and values\n",
    "#             keys_values = torch.cat(\n",
    "#                 [encoded for j, encoded in enumerate(encoded_modalities) if j != i], dim=0\n",
    "#             )\n",
    "#             fused_representation = self.cross_attention(query, keys_values, keys_values)\n",
    "#             # Aggregate across the sequence dimension (mean pooling)\n",
    "#             aggregated_representation = fused_representation.mean(dim=1)\n",
    "#             fused_representations.append(fused_representation)\n",
    "\n",
    "#         # Merge all fused representations (e.g., by averaging)\n",
    "#         final_representation = torch.mean(torch.stack(fused_representations, dim=0), dim=0)\n",
    "\n",
    "#         # Output final classification prediction\n",
    "#         predictions = self.classification_head(final_representation)\n",
    "#         return predictions\n",
    "\n",
    "\n",
    "\n",
    "# # Training function\n",
    "# def train_model(model, train_loader, optimizer, num_epochs, device=\"cpu\"):\n",
    "#     \"\"\"\n",
    "#     Train the multimodal model using Binary Cross-Entropy Loss.\n",
    "#     Args:\n",
    "#         model: The multimodal model.\n",
    "#         train_loader: DataLoader for the training set.\n",
    "#         optimizer: Optimizer for the model.\n",
    "#         num_epochs: Number of training epochs.\n",
    "#         device: Device to train the model on ('cpu' or 'cuda').\n",
    "#     \"\"\"\n",
    "#     model.to(device)\n",
    "#     model.train()\n",
    "\n",
    "#     criterion = nn.BCELoss(reduction='none')  # Compute per-sample loss first\n",
    "\n",
    "\n",
    "#     for epoch in range(num_epochs):\n",
    "#         epoch_loss = 0\n",
    "#         for batch in tqdm(train_loader, desc=f\"Epoch {epoch+1}/{num_epochs}\"):\n",
    "#             # Move batch data to the device\n",
    "#             modalities = [modality.to(device) for modality in batch[:-1]]\n",
    "#             labels = batch[-1].to(device)  # Binary labels\n",
    "\n",
    "#             # Forward pass\n",
    "#             optimizer.zero_grad()\n",
    "#             predictions = model(modalities).squeeze()  # Remove extra dimensions\n",
    "\n",
    "#             # Compute BCE loss\n",
    "#             # Compute BCE loss per sample\n",
    "#             loss = criterion(predictions, labels.float())\n",
    "\n",
    "#             # Apply class weights based on labels\n",
    "#             class_weights = torch.tensor([5.0, 1.0]).to(device)  # Adjust weights for class imbalance\n",
    "#             sample_weights = torch.where(labels == 1, class_weights[1], class_weights[0])\n",
    "#             loss = (loss * sample_weights).mean()  # Apply weights and compute mean loss\n",
    "\n",
    "\n",
    "#             # Backward pass and optimization\n",
    "#             loss.backward()\n",
    "#             optimizer.step()\n",
    "\n",
    "#             epoch_loss += loss.item()\n",
    "\n",
    "#         avg_loss = epoch_loss / len(train_loader)\n",
    "#         print(f\"Epoch {epoch+1}/{num_epochs}, Loss: {avg_loss:.4f}\")\n",
    "#         # test_model(model, train_loader, device=device)\n",
    "#         # test_model(model, test_loader, device=device)\n"
   ]
  },
  {
   "cell_type": "code",
   "execution_count": 72,
   "metadata": {},
   "outputs": [],
   "source": [
    "# Contrastive Loss Function\n",
    "import torch\n",
    "import torch.nn as nn\n",
    "import torch.nn.functional as F\n",
    "import torch.optim as optim\n",
    "from tqdm import tqdm\n",
    "\n",
    "def contrastive_loss(embeddings, labels, margin=1.0):\n",
    "    \"\"\"\n",
    "    Compute contrastive loss for embeddings.\n",
    "    Args:\n",
    "        embeddings: Tensor of shape (batch_size, embed_dim), model embeddings.\n",
    "        labels: Tensor of shape (batch_size), binary labels (0 or 1).\n",
    "        margin: Margin for the contrastive loss.\n",
    "    Returns:\n",
    "        Loss: Scalar tensor representing the contrastive loss.\n",
    "    \"\"\"\n",
    "    # Compute pairwise distances\n",
    "    pairwise_distances = torch.cdist(embeddings, embeddings, p=2)  # Euclidean distances\n",
    "\n",
    "    # Create pairwise label similarity (1 if same class, 0 otherwise)\n",
    "    pairwise_labels = (labels.unsqueeze(1) == labels.unsqueeze(0)).float()\n",
    "\n",
    "    # Positive pairs (same class): minimize distance\n",
    "    positive_loss = pairwise_labels * pairwise_distances.pow(2)\n",
    "\n",
    "    # Negative pairs (different class): enforce margin\n",
    "    negative_loss = (1 - pairwise_labels) * F.relu(margin - pairwise_distances).pow(2)\n",
    "\n",
    "    # Combine losses\n",
    "    loss = (positive_loss + negative_loss).mean()\n",
    "    return loss\n",
    "\n",
    "\n",
    "# Updated Model\n",
    "class MultimodalModel(nn.Module):\n",
    "    def __init__(self, input_dims, embed_dim, num_heads, num_layers):\n",
    "        super(MultimodalModel, self).__init__()\n",
    "        self.modality_encoders = nn.ModuleList([\n",
    "            ModalityEncoder(input_dim, embed_dim, num_heads, num_layers) for input_dim in input_dims\n",
    "        ])\n",
    "        self.cross_attention = CrossAttentionLayer(embed_dim, num_heads)\n",
    "        self.hidden_layer = nn.Linear(embed_dim, embed_dim)  # Hidden layer for embeddings\n",
    "        self.classification_head = nn.Sequential(\n",
    "            nn.Linear(embed_dim, embed_dim),\n",
    "            nn.ReLU(),\n",
    "            nn.Linear(embed_dim, 1),\n",
    "            nn.Sigmoid()\n",
    "        )\n",
    "\n",
    "    def forward(self, modalities):\n",
    "        encoded_modalities = [encoder(modality) for encoder, modality in zip(self.modality_encoders, modalities)]\n",
    "        fused_representations = []\n",
    "        for i, query in enumerate(encoded_modalities):\n",
    "            keys_values = torch.cat(\n",
    "                [encoded for j, encoded in enumerate(encoded_modalities) if j != i], dim=0\n",
    "            )\n",
    "            fused_representation = self.cross_attention(query, keys_values, keys_values)\n",
    "            aggregated_representation = fused_representation.mean(dim=1)\n",
    "            fused_representations.append(fused_representation)\n",
    "\n",
    "        final_representation = torch.mean(torch.stack(fused_representations, dim=0), dim=0)\n",
    "        embeddings = self.hidden_layer(final_representation)  # Extract embeddings\n",
    "        \n",
    "        predictions = self.classification_head(final_representation)\n",
    "        return embeddings, predictions\n",
    "\n",
    "\n",
    "# Updated Training Function\n",
    "def train_model_with_contrastive_loss(model, train_loader, optimizer, num_epochs, device=\"cpu\", margin=1.0, lambda_c=0.5):\n",
    "    \"\"\"\n",
    "    Train the model with contrastive loss and binary cross-entropy loss.\n",
    "    Args:\n",
    "        model: The multimodal model.\n",
    "        train_loader: DataLoader for the training set.\n",
    "        optimizer: Optimizer for the model.\n",
    "        num_epochs: Number of training epochs.\n",
    "        device: Device to train the model on ('cpu' or 'cuda').\n",
    "        margin: Margin for the contrastive loss.\n",
    "        lambda_c: Weight for contrastive loss in the final loss calculation.\n",
    "    \"\"\"\n",
    "    model.to(device)\n",
    "    model.train()\n",
    "\n",
    "    criterion_bce = nn.BCELoss(reduction='none')  # Per-sample BCE loss\n",
    "\n",
    "    for epoch in range(num_epochs):\n",
    "        epoch_loss = 0\n",
    "        for batch in tqdm(train_loader, desc=f\"Epoch {epoch+1}/{num_epochs}\"):\n",
    "            modalities = [modality.to(device) for modality in batch[:-1]]\n",
    "            labels = batch[-1].to(device)\n",
    "\n",
    "            optimizer.zero_grad()\n",
    "\n",
    "            # Forward pass\n",
    "            embeddings, predictions = model(modalities)\n",
    "            predictions = predictions.squeeze()\n",
    "\n",
    "            # Compute BCE loss\n",
    "            bce_loss = criterion_bce(predictions, labels.float())\n",
    "            class_weights = torch.tensor([5.0, 1.0]).to(device)\n",
    "            sample_weights = torch.where(labels == 1, class_weights[1], class_weights[0])\n",
    "            bce_loss = (bce_loss * sample_weights).mean()\n",
    "\n",
    "            # Compute Contrastive Loss\n",
    "            contrastive_loss_value = contrastive_loss(embeddings, labels, margin)\n",
    "\n",
    "            # Combine losses\n",
    "            total_loss = bce_loss + lambda_c * contrastive_loss_value\n",
    "\n",
    "            # Backward pass and optimization\n",
    "            total_loss.backward()\n",
    "            optimizer.step()\n",
    "\n",
    "            epoch_loss += total_loss.item()\n",
    "\n",
    "        avg_loss = epoch_loss / len(train_loader)\n",
    "        print(f\"Epoch {epoch+1}/{num_epochs}, Loss: {avg_loss:.4f}\")\n"
   ]
  },
  {
   "cell_type": "code",
   "execution_count": 73,
   "metadata": {},
   "outputs": [
    {
     "name": "stderr",
     "output_type": "stream",
     "text": [
      "C:\\Users\\User\\AppData\\Local\\Packages\\PythonSoftwareFoundation.Python.3.11_qbz5n2kfra8p0\\LocalCache\\local-packages\\Python311\\site-packages\\torch\\nn\\modules\\transformer.py:379: UserWarning: enable_nested_tensor is True, but self.use_nested_tensor is False because encoder_layer.self_attn.batch_first was not True(use batch_first for better inference performance)\n",
      "  warnings.warn(\n",
      "Epoch 1/30: 100%|██████████| 20/20 [00:00<00:00, 26.31it/s]\n"
     ]
    },
    {
     "name": "stdout",
     "output_type": "stream",
     "text": [
      "Epoch 1/30, Loss: 1.6162\n"
     ]
    },
    {
     "name": "stderr",
     "output_type": "stream",
     "text": [
      "Epoch 2/30: 100%|██████████| 20/20 [00:00<00:00, 27.24it/s]\n"
     ]
    },
    {
     "name": "stdout",
     "output_type": "stream",
     "text": [
      "Epoch 2/30, Loss: 1.0570\n"
     ]
    },
    {
     "name": "stderr",
     "output_type": "stream",
     "text": [
      "Epoch 3/30: 100%|██████████| 20/20 [00:00<00:00, 27.40it/s]\n"
     ]
    },
    {
     "name": "stdout",
     "output_type": "stream",
     "text": [
      "Epoch 3/30, Loss: 0.3849\n"
     ]
    },
    {
     "name": "stderr",
     "output_type": "stream",
     "text": [
      "Epoch 4/30: 100%|██████████| 20/20 [00:00<00:00, 26.76it/s]\n"
     ]
    },
    {
     "name": "stdout",
     "output_type": "stream",
     "text": [
      "Epoch 4/30, Loss: 0.2690\n"
     ]
    },
    {
     "name": "stderr",
     "output_type": "stream",
     "text": [
      "Epoch 5/30: 100%|██████████| 20/20 [00:00<00:00, 25.26it/s]\n"
     ]
    },
    {
     "name": "stdout",
     "output_type": "stream",
     "text": [
      "Epoch 5/30, Loss: 0.1701\n"
     ]
    },
    {
     "name": "stderr",
     "output_type": "stream",
     "text": [
      "Epoch 6/30: 100%|██████████| 20/20 [00:00<00:00, 27.03it/s]\n"
     ]
    },
    {
     "name": "stdout",
     "output_type": "stream",
     "text": [
      "Epoch 6/30, Loss: 0.1032\n"
     ]
    },
    {
     "name": "stderr",
     "output_type": "stream",
     "text": [
      "Epoch 7/30: 100%|██████████| 20/20 [00:00<00:00, 27.92it/s]\n"
     ]
    },
    {
     "name": "stdout",
     "output_type": "stream",
     "text": [
      "Epoch 7/30, Loss: 0.0494\n"
     ]
    },
    {
     "name": "stderr",
     "output_type": "stream",
     "text": [
      "Epoch 8/30: 100%|██████████| 20/20 [00:00<00:00, 26.98it/s]\n"
     ]
    },
    {
     "name": "stdout",
     "output_type": "stream",
     "text": [
      "Epoch 8/30, Loss: 0.0393\n"
     ]
    },
    {
     "name": "stderr",
     "output_type": "stream",
     "text": [
      "Epoch 9/30: 100%|██████████| 20/20 [00:00<00:00, 26.91it/s]\n"
     ]
    },
    {
     "name": "stdout",
     "output_type": "stream",
     "text": [
      "Epoch 9/30, Loss: 0.0312\n"
     ]
    },
    {
     "name": "stderr",
     "output_type": "stream",
     "text": [
      "Epoch 10/30: 100%|██████████| 20/20 [00:00<00:00, 26.98it/s]\n"
     ]
    },
    {
     "name": "stdout",
     "output_type": "stream",
     "text": [
      "Epoch 10/30, Loss: 0.0140\n"
     ]
    },
    {
     "name": "stderr",
     "output_type": "stream",
     "text": [
      "Epoch 11/30: 100%|██████████| 20/20 [00:00<00:00, 26.38it/s]\n"
     ]
    },
    {
     "name": "stdout",
     "output_type": "stream",
     "text": [
      "Epoch 11/30, Loss: 0.0086\n"
     ]
    },
    {
     "name": "stderr",
     "output_type": "stream",
     "text": [
      "Epoch 12/30: 100%|██████████| 20/20 [00:00<00:00, 27.86it/s]\n"
     ]
    },
    {
     "name": "stdout",
     "output_type": "stream",
     "text": [
      "Epoch 12/30, Loss: 0.0064\n"
     ]
    },
    {
     "name": "stderr",
     "output_type": "stream",
     "text": [
      "Epoch 13/30: 100%|██████████| 20/20 [00:00<00:00, 27.42it/s]\n"
     ]
    },
    {
     "name": "stdout",
     "output_type": "stream",
     "text": [
      "Epoch 13/30, Loss: 0.0054\n"
     ]
    },
    {
     "name": "stderr",
     "output_type": "stream",
     "text": [
      "Epoch 14/30: 100%|██████████| 20/20 [00:00<00:00, 25.18it/s]\n"
     ]
    },
    {
     "name": "stdout",
     "output_type": "stream",
     "text": [
      "Epoch 14/30, Loss: 0.0051\n"
     ]
    },
    {
     "name": "stderr",
     "output_type": "stream",
     "text": [
      "Epoch 15/30: 100%|██████████| 20/20 [00:00<00:00, 26.75it/s]\n"
     ]
    },
    {
     "name": "stdout",
     "output_type": "stream",
     "text": [
      "Epoch 15/30, Loss: 0.0040\n"
     ]
    },
    {
     "name": "stderr",
     "output_type": "stream",
     "text": [
      "Epoch 16/30: 100%|██████████| 20/20 [00:00<00:00, 25.79it/s]\n"
     ]
    },
    {
     "name": "stdout",
     "output_type": "stream",
     "text": [
      "Epoch 16/30, Loss: 0.0036\n"
     ]
    },
    {
     "name": "stderr",
     "output_type": "stream",
     "text": [
      "Epoch 17/30: 100%|██████████| 20/20 [00:00<00:00, 27.24it/s]\n"
     ]
    },
    {
     "name": "stdout",
     "output_type": "stream",
     "text": [
      "Epoch 17/30, Loss: 0.0031\n"
     ]
    },
    {
     "name": "stderr",
     "output_type": "stream",
     "text": [
      "Epoch 18/30: 100%|██████████| 20/20 [00:00<00:00, 26.79it/s]\n"
     ]
    },
    {
     "name": "stdout",
     "output_type": "stream",
     "text": [
      "Epoch 18/30, Loss: 0.0028\n"
     ]
    },
    {
     "name": "stderr",
     "output_type": "stream",
     "text": [
      "Epoch 19/30: 100%|██████████| 20/20 [00:00<00:00, 26.00it/s]\n"
     ]
    },
    {
     "name": "stdout",
     "output_type": "stream",
     "text": [
      "Epoch 19/30, Loss: 0.0027\n"
     ]
    },
    {
     "name": "stderr",
     "output_type": "stream",
     "text": [
      "Epoch 20/30: 100%|██████████| 20/20 [00:00<00:00, 25.58it/s]\n"
     ]
    },
    {
     "name": "stdout",
     "output_type": "stream",
     "text": [
      "Epoch 20/30, Loss: 0.0023\n"
     ]
    },
    {
     "name": "stderr",
     "output_type": "stream",
     "text": [
      "Epoch 21/30: 100%|██████████| 20/20 [00:00<00:00, 25.50it/s]\n"
     ]
    },
    {
     "name": "stdout",
     "output_type": "stream",
     "text": [
      "Epoch 21/30, Loss: 0.0022\n"
     ]
    },
    {
     "name": "stderr",
     "output_type": "stream",
     "text": [
      "Epoch 22/30: 100%|██████████| 20/20 [00:00<00:00, 25.98it/s]\n"
     ]
    },
    {
     "name": "stdout",
     "output_type": "stream",
     "text": [
      "Epoch 22/30, Loss: 0.0021\n"
     ]
    },
    {
     "name": "stderr",
     "output_type": "stream",
     "text": [
      "Epoch 23/30: 100%|██████████| 20/20 [00:00<00:00, 26.99it/s]\n"
     ]
    },
    {
     "name": "stdout",
     "output_type": "stream",
     "text": [
      "Epoch 23/30, Loss: 0.0018\n"
     ]
    },
    {
     "name": "stderr",
     "output_type": "stream",
     "text": [
      "Epoch 24/30: 100%|██████████| 20/20 [00:00<00:00, 24.98it/s]\n"
     ]
    },
    {
     "name": "stdout",
     "output_type": "stream",
     "text": [
      "Epoch 24/30, Loss: 0.0017\n"
     ]
    },
    {
     "name": "stderr",
     "output_type": "stream",
     "text": [
      "Epoch 25/30: 100%|██████████| 20/20 [00:00<00:00, 26.01it/s]\n"
     ]
    },
    {
     "name": "stdout",
     "output_type": "stream",
     "text": [
      "Epoch 25/30, Loss: 0.0015\n"
     ]
    },
    {
     "name": "stderr",
     "output_type": "stream",
     "text": [
      "Epoch 26/30: 100%|██████████| 20/20 [00:00<00:00, 26.34it/s]\n"
     ]
    },
    {
     "name": "stdout",
     "output_type": "stream",
     "text": [
      "Epoch 26/30, Loss: 0.0014\n"
     ]
    },
    {
     "name": "stderr",
     "output_type": "stream",
     "text": [
      "Epoch 27/30: 100%|██████████| 20/20 [00:00<00:00, 26.18it/s]\n"
     ]
    },
    {
     "name": "stdout",
     "output_type": "stream",
     "text": [
      "Epoch 27/30, Loss: 0.0013\n"
     ]
    },
    {
     "name": "stderr",
     "output_type": "stream",
     "text": [
      "Epoch 28/30: 100%|██████████| 20/20 [00:00<00:00, 26.90it/s]\n"
     ]
    },
    {
     "name": "stdout",
     "output_type": "stream",
     "text": [
      "Epoch 28/30, Loss: 0.0012\n"
     ]
    },
    {
     "name": "stderr",
     "output_type": "stream",
     "text": [
      "Epoch 29/30: 100%|██████████| 20/20 [00:00<00:00, 26.52it/s]\n"
     ]
    },
    {
     "name": "stdout",
     "output_type": "stream",
     "text": [
      "Epoch 29/30, Loss: 0.0011\n"
     ]
    },
    {
     "name": "stderr",
     "output_type": "stream",
     "text": [
      "Epoch 30/30: 100%|██████████| 20/20 [00:00<00:00, 26.27it/s]\n"
     ]
    },
    {
     "name": "stdout",
     "output_type": "stream",
     "text": [
      "Epoch 30/30, Loss: 0.0011\n",
      "Test Metrics:\n",
      "Accuracy: 1.0000\n",
      "AUC: 1.0000\n",
      "F1 Score: 1.0000\n",
      "Precision: 1.0000\n",
      "Recall: 1.0000\n",
      "Specificity: 1.0000\n",
      "MCC: 1.0000\n",
      "AUPRC: 1.0000\n"
     ]
    },
    {
     "data": {
      "image/png": "[encoded data removed]",
      "text/plain": [
       "<Figure size 640x480 with 1 Axes>"
      ]
     },
     "metadata": {},
     "output_type": "display_data"
    }
   ],
   "source": [
    "# Example usage\n",
    "def main_training(train=True):\n",
    "    # Load data\n",
    "    _,_,_,_,train_loader, test_loader = get_train_test_loader()  # Assuming your main() function loads data and returns DataLoaders\n",
    "\n",
    "    # Model parameters\n",
    "    input_dims = [19, 500, 500, 500, 500, 800]  # Number of features for each modality\n",
    "    embed_dim = 64  # Common embedding dimension\n",
    "    num_heads = 4  # Number of attention heads\n",
    "    num_layers = 1  # Number of layers in the transformer encoders\n",
    "\n",
    "    # Initialize model, optimizer\n",
    "    device = torch.device(\"cuda\" if torch.cuda.is_available() else \"cpu\")\n",
    "    model = MultimodalModel(input_dims, embed_dim, num_heads, num_layers)\n",
    "    optimizer = optim.Adam(model.parameters(), lr=1e-3)\n",
    "\n",
    "    # Train the model\n",
    "    num_epochs = 30\n",
    "    if train:\n",
    "        train_model_with_contrastive_loss(model, train_loader, optimizer, num_epochs, device)\n",
    "        metrics = test_model(model, train_loader, device)\n",
    "\n",
    "    return model\n",
    "\n",
    "model = main_training()"
   ]
  },
  {
   "cell_type": "code",
   "execution_count": 74,
   "metadata": {},
   "outputs": [
    {
     "name": "stdout",
     "output_type": "stream",
     "text": [
      "Test Metrics:\n",
      "Accuracy: 0.8401\n",
      "AUC: 0.9314\n",
      "F1 Score: 0.8350\n",
      "Precision: 0.8716\n",
      "Recall: 0.8012\n",
      "Specificity: 0.8797\n",
      "MCC: 0.6827\n",
      "AUPRC: 0.9285\n"
     ]
    },
    {
     "name": "stderr",
     "output_type": "stream",
     "text": [
      "C:\\Users\\User\\AppData\\Local\\Packages\\PythonSoftwareFoundation.Python.3.11_qbz5n2kfra8p0\\LocalCache\\local-packages\\Python311\\site-packages\\torch\\nn\\modules\\transformer.py:379: UserWarning: enable_nested_tensor is True, but self.use_nested_tensor is False because encoder_layer.self_attn.batch_first was not True(use batch_first for better inference performance)\n",
      "  warnings.warn(\n",
      "C:\\Users\\User\\AppData\\Local\\Temp\\ipykernel_28104\\228421755.py:9: FutureWarning: You are using `torch.load` with `weights_only=False` (the current default value), which uses the default pickle module implicitly. It is possible to construct malicious pickle data which will execute arbitrary code during unpickling (See https://github.com/pytorch/pytorch/blob/main/SECURITY.md#untrusted-models for more details). In a future release, the default value for `weights_only` will be flipped to `True`. This limits the functions that could be executed during unpickling. Arbitrary objects will no longer be allowed to be loaded via this mode unless they are explicitly allowlisted by the user via `torch.serialization.add_safe_globals`. We recommend you start setting `weights_only=True` for any use case where you don't have full control of the loaded file. Please open an issue on GitHub for any issues related to this experimental feature.\n",
      "  model.load_state_dict(torch.load('SA_CA_model.pth'))\n"
     ]
    },
    {
     "data": {
      "image/png": "[encoded data removed]",
      "text/plain": [
       "<Figure size 640x480 with 1 Axes>"
      ]
     },
     "metadata": {},
     "output_type": "display_data"
    }
   ],
   "source": [
    "# save the model\n",
    "torch.save(model.state_dict(), 'SA_CA_model.pth')\n",
    "\n",
    "# load data\n",
    "_,_,_,_,train_loader, test_loader = get_train_test_loader()\n",
    "\n",
    "# load the model\n",
    "model = main_training(train=False)\n",
    "model.load_state_dict(torch.load('SA_CA_model.pth'))\n",
    "\n",
    "# Evaluate the loaded model\n",
    "metrics = test_model(model, test_loader)"
   ]
  }
 ],
 "metadata": {
  "kernelspec": {
   "display_name": "Python 3",
   "language": "python",
   "name": "python3"
  },
  "language_info": {
   "codemirror_mode": {
    "name": "ipython",
    "version": 3
   },
   "file_extension": ".py",
   "mimetype": "text/x-python",
   "name": "python",
   "nbconvert_exporter": "python",
   "pygments_lexer": "ipython3",
   "version": "3.11.9"
  }
 },
 "nbformat": 4,
 "nbformat_minor": 2
}
