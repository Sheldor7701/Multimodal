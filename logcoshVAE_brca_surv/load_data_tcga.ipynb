{
 "cells": [
  {
   "cell_type": "code",
   "execution_count": 62,
   "metadata": {},
   "outputs": [],
   "source": [
    "# import libraries\n",
    "import numpy as np\n",
    "import pandas as pd\n",
    "import matplotlib.pyplot as plt\n",
    "import seaborn as sns\n",
    "from sklearn.model_selection import train_test_split\n",
    "import torch\n",
    "from torch import nn\n",
    "from torch import optim\n",
    "import torch.nn.functional as F\n",
    "from torchvision import datasets, transforms, models\n",
    "from torch.utils.data import Dataset, DataLoader\n",
    "from sklearn.preprocessing import StandardScaler\n"
   ]
  },
  {
   "cell_type": "code",
   "execution_count": 63,
   "metadata": {},
   "outputs": [
    {
     "name": "stdout",
     "output_type": "stream",
     "text": [
      "\n",
      "Balanced shapes of modalities:\n",
      "Clinical: (1592, 19)\n",
      "CNV: (1592, 500)\n",
      "DNA: (1592, 500)\n",
      "miRNA: (1592, 500)\n",
      "mRNA: (1592, 500)\n",
      "WSI: (1592, 800)\n",
      "Labels: (1592,)\n",
      "\n",
      "Class distribution after balancing:\n",
      "Positive samples: 796\n",
      "Negative samples: 796\n"
     ]
    }
   ],
   "source": [
    "# load 6 modalites data \n",
    "from sklearn.utils import resample\n",
    "import numpy as np\n",
    "import pandas as pd\n",
    "\n",
    "def load_data():\n",
    "    cln_data = pd.read_csv('data/raw_features_cln.csv')\n",
    "    cnv_data = pd.read_csv('data/raw_features_cnv.csv')\n",
    "    dna_data = pd.read_csv('data/raw_features_dna.csv')\n",
    "    mir_data = pd.read_csv('data/raw_features_mir.csv')\n",
    "    mrna_data = pd.read_csv('data/raw_features_mrna.csv')\n",
    "    wsi_data = pd.read_csv('data/raw_features_wsi.csv')\n",
    "\n",
    "    # keep data where all modalities are present based on patient id\n",
    "    patient_ids = set(cln_data['submitter_id.samples'])\n",
    "    patient_ids = patient_ids.intersection(set(cnv_data['submitter_id.samples']))\n",
    "    patient_ids = patient_ids.intersection(set(dna_data['submitter_id.samples']))\n",
    "    patient_ids = patient_ids.intersection(set(mir_data['submitter_id.samples']))\n",
    "    patient_ids = patient_ids.intersection(set(mrna_data['submitter_id.samples']))\n",
    "    patient_ids = patient_ids.intersection(set(wsi_data['submitter_id.samples']))\n",
    "\n",
    "    cln_data = cln_data[cln_data['submitter_id.samples'].isin(patient_ids)].reset_index(drop=True)\n",
    "    cnv_data = cnv_data[cnv_data['submitter_id.samples'].isin(patient_ids)].reset_index(drop=True)\n",
    "    dna_data = dna_data[dna_data['submitter_id.samples'].isin(patient_ids)].reset_index(drop=True)\n",
    "    mir_data = mir_data[mir_data['submitter_id.samples'].isin(patient_ids)].reset_index(drop=True)\n",
    "    mrna_data = mrna_data[mrna_data['submitter_id.samples'].isin(patient_ids)].reset_index(drop=True)\n",
    "    wsi_data = wsi_data[wsi_data['submitter_id.samples'].isin(patient_ids)].reset_index(drop=True)\n",
    "\n",
    "    # sort data by patient id\n",
    "    cln_data = cln_data.sort_values('submitter_id.samples').reset_index(drop=True)\n",
    "    cnv_data = cnv_data.sort_values('submitter_id.samples').reset_index(drop=True)\n",
    "    dna_data = dna_data.sort_values('submitter_id.samples').reset_index(drop=True)\n",
    "    mir_data = mir_data.sort_values('submitter_id.samples').reset_index(drop=True)\n",
    "    mrna_data = mrna_data.sort_values('submitter_id.samples').reset_index(drop=True)\n",
    "    wsi_data = wsi_data.sort_values('submitter_id.samples').reset_index(drop=True)\n",
    "\n",
    "    # make sure the labels column match for all modalities\n",
    "    cln_labels = cln_data['label_cln']\n",
    "    cnv_labels = cnv_data['label_cnv']\n",
    "    dna_labels = dna_data['label_dna']\n",
    "    mir_labels = mir_data['label_mir']\n",
    "    mrna_labels = mrna_data['label_mrna']\n",
    "    wsi_labels = wsi_data['label_wsi']\n",
    "\n",
    "    assert np.all(cln_labels == cnv_labels), \"Labels mismatch between clinical and CNV data\"\n",
    "    assert np.all(cln_labels == dna_labels), \"Labels mismatch between clinical and DNA data\"\n",
    "    assert np.all(cln_labels == mir_labels), \"Labels mismatch between clinical and miRNA data\"\n",
    "    assert np.all(cln_labels == mrna_labels), \"Labels mismatch between clinical and mRNA data\"\n",
    "    # assert np.all(cln_labels == wsi_labels), \"Labels mismatch between clinical and WSI data\"\n",
    "\n",
    "    # drop labels column and patient id column\n",
    "    cln_data = cln_data.drop(columns=['label_cln', 'submitter_id.samples'])\n",
    "    cnv_data = cnv_data.drop(columns=['label_cnv', 'submitter_id.samples'])\n",
    "    dna_data = dna_data.drop(columns=['label_dna', 'submitter_id.samples'])\n",
    "    mir_data = mir_data.drop(columns=['label_mir', 'submitter_id.samples'])\n",
    "    mrna_data = mrna_data.drop(columns=['label_mrna', 'submitter_id.samples'])\n",
    "    wsi_data = wsi_data.drop(columns=['label_wsi', 'submitter_id.samples'])\n",
    "\n",
    "    # normalize data\n",
    "    stdscalar = StandardScaler()\n",
    "    cln_data = stdscalar.fit_transform(cln_data)\n",
    "    cnv_data = stdscalar.fit_transform(cnv_data)\n",
    "    dna_data = stdscalar.fit_transform(dna_data)\n",
    "    mir_data = stdscalar.fit_transform(mir_data)\n",
    "    mrna_data = stdscalar.fit_transform(mrna_data)\n",
    "    wsi_data = stdscalar.fit_transform(wsi_data)\n",
    "\n",
    "    return cln_data, cnv_data, dna_data, mir_data, mrna_data, wsi_data, cln_labels\n",
    "\n",
    "\n",
    "from imblearn.over_sampling import SMOTE\n",
    "from sklearn.preprocessing import StandardScaler\n",
    "\n",
    "def balance_modality_data(features_list, labels, method='SMOTE'):\n",
    "    \"\"\"\n",
    "    Balances the dataset for each modality separately.\n",
    "    \n",
    "    Parameters:\n",
    "    - features_list: List of feature matrices, one for each modality.\n",
    "    - labels: Binary labels (numpy array or Series).\n",
    "    - method: Balancing method ('SMOTE' supported here).\n",
    "    \n",
    "    Returns:\n",
    "    - Separate balanced feature matrices for each modality.\n",
    "    - Balanced labels (same across all modalities).\n",
    "    \"\"\"\n",
    "    smote = SMOTE(random_state=42)\n",
    "    balanced_features_list = []\n",
    "    \n",
    "    for modality_features in features_list:\n",
    "        # Balance the current modality's features and labels\n",
    "        balanced_modality_features, balanced_labels = smote.fit_resample(modality_features, labels)\n",
    "        balanced_features_list.append(balanced_modality_features)\n",
    "    \n",
    "    # Unpack balanced features into separate variables and return them\n",
    "    return (*balanced_features_list, balanced_labels)\n",
    "\n",
    "if __name__ == '__main__':\n",
    "    # Load the data\n",
    "    cln_data, cnv_data, dna_data, mir_data, mrna_data, wsi_data, labels = load_data()\n",
    "    \n",
    "    # List of modalities\n",
    "    features_list = [cln_data, cnv_data, dna_data, mir_data, mrna_data, wsi_data]\n",
    "    \n",
    "    # Balance the modalities and unpack them\n",
    "    balanced_cln_data, balanced_cnv_data, balanced_dna_data, balanced_mir_data, balanced_mrna_data, balanced_wsi_data, balanced_labels = balance_modality_data(features_list, labels, method='SMOTE')\n",
    "    \n",
    "    # Print shapes\n",
    "    print(\"\\nBalanced shapes of modalities:\")\n",
    "    print(f\"Clinical: {balanced_cln_data.shape}\")\n",
    "    print(f\"CNV: {balanced_cnv_data.shape}\")\n",
    "    print(f\"DNA: {balanced_dna_data.shape}\")\n",
    "    print(f\"miRNA: {balanced_mir_data.shape}\")\n",
    "    print(f\"mRNA: {balanced_mrna_data.shape}\")\n",
    "    print(f\"WSI: {balanced_wsi_data.shape}\")\n",
    "    print(f\"Labels: {balanced_labels.shape}\")\n",
    "\n",
    "    # Class distribution\n",
    "    print(\"\\nClass distribution after balancing:\")\n",
    "    print(f\"Positive samples: {np.sum(balanced_labels == 1)}\")\n",
    "    print(f\"Negative samples: {np.sum(balanced_labels == 0)}\")\n",
    "\n"
   ]
  },
  {
   "cell_type": "code",
   "execution_count": 72,
   "metadata": {},
   "outputs": [],
   "source": [
    "import torch\n",
    "from torch.utils.data import DataLoader, Dataset\n",
    "from sklearn.model_selection import train_test_split\n",
    "\n",
    "# Define a MultimodalDataset class if not already defined\n",
    "class MultimodalDataset(Dataset):\n",
    "    def __init__(self, *modalities, labels):\n",
    "        self.modalities = modalities\n",
    "        self.labels = labels\n",
    "\n",
    "    def __len__(self):\n",
    "        return len(self.labels)\n",
    "\n",
    "    def __getitem__(self, idx):\n",
    "        return tuple(modality[idx] for modality in self.modalities) + (self.labels[idx],)\n",
    "\n",
    "\n",
    "def load_and_split_data(modalities, labels, test_size=0.2, random_state=42):\n",
    "    \"\"\"\n",
    "    Splits the data into train and test sets, and balances the test set.\n",
    "    \"\"\"\n",
    "    # Split the data into train and test sets\n",
    "    train_modalities, test_modalities = [], []\n",
    "    for modality in modalities:\n",
    "        train, test = train_test_split(modality, test_size=test_size, random_state=random_state)\n",
    "        train_modalities.append(train)\n",
    "        test_modalities.append(test)\n",
    "\n",
    "    labels_train, labels_test = train_test_split(labels, test_size=test_size, random_state=random_state)\n",
    "\n",
    "    return train_modalities, test_modalities, labels_train, labels_test\n",
    "\n",
    "# Function to convert data to tensors\n",
    "def convert_to_tensors(data):\n",
    "    return [torch.tensor(modality, dtype=torch.float32) for modality in data]\n",
    "\n",
    "# Main code\n",
    "def get_train_test_loader():\n",
    "    # Load the data\n",
    "    cln_data, cnv_data, dna_data, mir_data, mrna_data, wsi_data, labels = load_data()\n",
    "    modalities = [cln_data, cnv_data, dna_data, mir_data, mrna_data, wsi_data]\n",
    "    # cln_data, cnv_data, dna_data, mir_data, mrna_data, wsi_data, labels = balance_modality_data(modalities, labels)\n",
    "    modalities = [cln_data, cnv_data, dna_data, mir_data, mrna_data, wsi_data]\n",
    "    # Split data\n",
    "    train_modalities, test_modalities, labels_train, labels_test = load_and_split_data(modalities, labels)\n",
    "\n",
    "    # Convert data to tensors\n",
    "    train_tensors = convert_to_tensors(train_modalities)\n",
    "    test_tensors = convert_to_tensors(test_modalities)\n",
    "    labels_train = torch.tensor(labels_train, dtype=torch.long)\n",
    "    labels_test = torch.tensor(labels_test.to_numpy(), dtype=torch.long)\n",
    "\n",
    "    # Create datasets and dataloaders\n",
    "    train_dataset = MultimodalDataset(*train_tensors, labels=labels_train)\n",
    "    test_dataset = MultimodalDataset(*test_tensors, labels=labels_test)\n",
    "\n",
    "    batch_size = 32\n",
    "    train_loader = DataLoader(train_dataset, batch_size=batch_size, shuffle=True)\n",
    "    test_loader = DataLoader(test_dataset, batch_size=batch_size, shuffle=False)\n",
    "\n",
    "    return train_loader, test_loader\n",
    "\n",
    "# Run the main function\n",
    "train_loader, test_loader = get_train_test_loader()\n"
   ]
  },
  {
   "cell_type": "code",
   "execution_count": 65,
   "metadata": {},
   "outputs": [],
   "source": [
    "class ModalityEncoder(nn.Module):\n",
    "    def __init__(self, input_dim, embed_dim, num_heads, num_layers):\n",
    "        super(ModalityEncoder, self).__init__()\n",
    "        self.embedding = nn.Linear(input_dim, embed_dim)\n",
    "        self.transformer = nn.TransformerEncoder(\n",
    "            nn.TransformerEncoderLayer(d_model=embed_dim, nhead=num_heads),\n",
    "            num_layers=num_layers\n",
    "        )\n",
    "    \n",
    "    def forward(self, x):\n",
    "        \"\"\"\n",
    "        Args:\n",
    "            x: Input tensor of shape (batch_size, seq_len, input_dim) or (batch_size, input_dim).\n",
    "        Returns:\n",
    "            Encoded tensor of shape (seq_len, batch_size, embed_dim).\n",
    "        \"\"\"\n",
    "        # If input is 2D (batch_size, input_dim), add a dummy seq_len dimension\n",
    "        if x.dim() == 2:\n",
    "            x = x.unsqueeze(1)  # Shape becomes (batch_size, 1, input_dim)\n",
    "        \n",
    "        # Embed and transpose for Transformer\n",
    "        x = self.embedding(x)  # Shape: (batch_size, seq_len, embed_dim)\n",
    "        x = x.transpose(0, 1)  # Transformer expects (seq_len, batch_size, embed_dim)\n",
    "        \n",
    "        # Pass through the Transformer\n",
    "        x = self.transformer(x)\n",
    "        return x"
   ]
  },
  {
   "cell_type": "code",
   "execution_count": 66,
   "metadata": {},
   "outputs": [],
   "source": [
    "class CrossAttentionLayer(nn.Module):\n",
    "    def __init__(self, embed_dim, num_heads):\n",
    "        super(CrossAttentionLayer, self).__init__()\n",
    "        self.multihead_attn = nn.MultiheadAttention(embed_dim=embed_dim, num_heads=num_heads)\n",
    "\n",
    "    def forward(self, query, key, value):\n",
    "        \"\"\"\n",
    "        Args:\n",
    "            query: Tensor of shape (seq_len, batch_size, embed_dim).\n",
    "            key, value: Tensors of shape (seq_len, batch_size, embed_dim).\n",
    "        Returns:\n",
    "            Fused representation of shape (seq_len, batch_size, embed_dim).\n",
    "        \"\"\"\n",
    "        attn_output, _ = self.multihead_attn(query, key, value)\n",
    "        return attn_output"
   ]
  },
  {
   "cell_type": "code",
   "execution_count": 67,
   "metadata": {},
   "outputs": [],
   "source": [
    "import torch\n",
    "from torch.utils.data import DataLoader\n",
    "from sklearn.metrics import accuracy_score, roc_auc_score, f1_score, precision_score, roc_curve, precision_recall_curve\n",
    "from sklearn.metrics import recall_score, matthews_corrcoef, average_precision_score, confusion_matrix\n",
    "\n",
    "# Function to evaluate the model\n",
    "def test_model(model, test_loader, device=\"cpu\"):\n",
    "    model.eval()  # Set model to evaluation mode\n",
    "    all_preds = []\n",
    "    all_targets = []\n",
    "    all_probs = []\n",
    "\n",
    "    with torch.no_grad():\n",
    "        for batch in test_loader:\n",
    "            # Unpack modalities and labels from the batch\n",
    "            modalities = [modality.to(device) for modality in batch[:-1]]\n",
    "            labels = batch[-1].to(device)\n",
    "\n",
    "            # Forward pass\n",
    "            outputs = model(modalities)\n",
    "            probs = torch.sigmoid(outputs).squeeze()  # Apply sigmoid for binary classification probabilities\n",
    "\n",
    "            # Predictions (threshold at 0.5)\n",
    "            preds = (probs >= 0.52).long()\n",
    "\n",
    "            # Collect predictions and targets\n",
    "            all_preds.extend(preds.cpu().numpy())\n",
    "            all_probs.extend(probs.cpu().numpy())\n",
    "            all_targets.extend(labels.cpu().numpy())\n",
    "\n",
    "    # Calculate metrics\n",
    "    accuracy = accuracy_score(all_targets, all_preds)\n",
    "    auc = roc_auc_score(all_targets, all_probs)\n",
    "    f1 = f1_score(all_targets, all_preds)\n",
    "    precision = precision_score(all_targets, all_preds)\n",
    "    recall = recall_score(all_targets, all_preds)\n",
    "    mcc = matthews_corrcoef(all_targets, all_preds)\n",
    "    auprc = average_precision_score(all_targets, all_probs)\n",
    "    cm = confusion_matrix(all_targets, all_preds)\n",
    "    specificity = cm[0, 0] / cm[0, :].sum()  \n",
    "\n",
    "    print(\"Test Metrics:\")\n",
    "    print(f\"Accuracy: {accuracy:.4f}\")\n",
    "    print(f\"AUC: {auc:.4f}\")\n",
    "    print(f\"F1 Score: {f1:.4f}\")\n",
    "    print(f\"Precision: {precision:.4f}\")\n",
    "    print(f\"Recall: {recall:.4f}\")\n",
    "    print(f\"Specificity: {specificity:.4f}\")\n",
    "    print(f\"MCC: {mcc:.4f}\")\n",
    "    print(f\"AUPRC: {auprc:.4f}\")\n",
    "\n",
    "    # plot confusion matrix\n",
    "    sns.heatmap(cm, annot=True, fmt='d', cmap='Blues', cbar=False)\n",
    "    plt.xlabel('Predicted')\n",
    "    plt.ylabel('True')\n",
    "    plt.title('Confusion Matrix')\n",
    "    plt.show()\n",
    "\n",
    "    return {\n",
    "        \"accuracy\": accuracy,\n",
    "        \"auc\": auc,\n",
    "        \"f1\": f1,\n",
    "        \"precision\": precision,\n",
    "        \"recall\": recall,\n",
    "        \"specificity\": specificity,\n",
    "        \"mcc\": mcc,\n",
    "        \"auprc\": auprc\n",
    "    }"
   ]
  },
  {
   "cell_type": "code",
   "execution_count": 68,
   "metadata": {},
   "outputs": [],
   "source": [
    "import torch\n",
    "import torch.nn as nn\n",
    "import torch.nn.functional as F\n",
    "import torch.optim as optim\n",
    "from tqdm import tqdm\n",
    "\n",
    "\n",
    "# Multimodal Model\n",
    "class MultimodalModel(nn.Module):\n",
    "    def __init__(self, input_dims, embed_dim, num_heads, num_layers):\n",
    "        super(MultimodalModel, self).__init__()\n",
    "        \n",
    "        # Modality encoders for each input\n",
    "        self.modality_encoders = nn.ModuleList([\n",
    "            ModalityEncoder(input_dim, embed_dim, num_heads, num_layers) for input_dim in input_dims\n",
    "        ])\n",
    "        \n",
    "        # Cross-attention layer\n",
    "        self.cross_attention = CrossAttentionLayer(embed_dim, num_heads)\n",
    "        \n",
    "        # Final classification head\n",
    "        self.classification_head = nn.Sequential(\n",
    "            nn.Linear(embed_dim, embed_dim),\n",
    "            nn.ReLU(),\n",
    "            nn.Linear(embed_dim, 1),  # Output 1 value per sample (for binary classification)\n",
    "            nn.Sigmoid()  # Sigmoid activation for BCE loss\n",
    "        )\n",
    "    \n",
    "    def forward(self, modalities):\n",
    "        \"\"\"\n",
    "        Args:\n",
    "            modalities: List of tensors, one for each modality.\n",
    "                        Each tensor should have shape (batch_size, seq_len, input_dim)\n",
    "                        or (batch_size, input_dim).\n",
    "        Returns:\n",
    "            Predictions: Tensor of shape (batch_size, 1).\n",
    "        \"\"\"\n",
    "        # Encode each modality\n",
    "        encoded_modalities = [encoder(modality) for encoder, modality in zip(self.modality_encoders, modalities)]\n",
    "\n",
    "        # Apply cross-attention between modalities\n",
    "        query = encoded_modalities[0]  # Use the first modality as query\n",
    "        keys_values = torch.cat(encoded_modalities[1:], dim=0)  # Concatenate other modalities\n",
    "\n",
    "        fused_representation = self.cross_attention(query, keys_values, keys_values)\n",
    "\n",
    "        # Aggregate (e.g., by mean pooling over sequence dimension)\n",
    "        aggregated_representation = fused_representation.mean(dim=0)\n",
    "\n",
    "        # Output final classification prediction\n",
    "        predictions = self.classification_head(aggregated_representation)\n",
    "        return predictions\n",
    "\n",
    "\n",
    "# Training function\n",
    "def train_model(model, train_loader, optimizer, num_epochs, device=\"cpu\"):\n",
    "    \"\"\"\n",
    "    Train the multimodal model using Binary Cross-Entropy Loss.\n",
    "    Args:\n",
    "        model: The multimodal model.\n",
    "        train_loader: DataLoader for the training set.\n",
    "        optimizer: Optimizer for the model.\n",
    "        num_epochs: Number of training epochs.\n",
    "        device: Device to train the model on ('cpu' or 'cuda').\n",
    "    \"\"\"\n",
    "    model.to(device)\n",
    "    model.train()\n",
    "\n",
    "    criterion = nn.BCELoss(reduction='none')  # Compute per-sample loss first\n",
    "\n",
    "\n",
    "    for epoch in range(num_epochs):\n",
    "        epoch_loss = 0\n",
    "        for batch in tqdm(train_loader, desc=f\"Epoch {epoch+1}/{num_epochs}\"):\n",
    "            # Move batch data to the device\n",
    "            modalities = [modality.to(device) for modality in batch[:-1]]\n",
    "            labels = batch[-1].to(device)  # Binary labels\n",
    "\n",
    "            # Forward pass\n",
    "            optimizer.zero_grad()\n",
    "            predictions = model(modalities).squeeze()  # Remove extra dimensions\n",
    "\n",
    "            # Compute BCE loss\n",
    "            # Compute BCE loss per sample\n",
    "            loss = criterion(predictions, labels.float())\n",
    "\n",
    "            # Apply class weights based on labels\n",
    "            class_weights = torch.tensor([5.0, 1.0]).to(device)  # Adjust weights for class imbalance\n",
    "            sample_weights = torch.where(labels == 1, class_weights[1], class_weights[0])\n",
    "            loss = (loss * sample_weights).mean()  # Apply weights and compute mean loss\n",
    "\n",
    "\n",
    "            # Backward pass and optimization\n",
    "            loss.backward()\n",
    "            optimizer.step()\n",
    "\n",
    "            epoch_loss += loss.item()\n",
    "\n",
    "        avg_loss = epoch_loss / len(train_loader)\n",
    "        print(f\"Epoch {epoch+1}/{num_epochs}, Loss: {avg_loss:.4f}\")\n",
    "        test_model(model, train_loader, device=device)\n",
    "        # test_model(model, test_loader, device=device)\n"
   ]
  },
  {
   "cell_type": "code",
   "execution_count": 69,
   "metadata": {},
   "outputs": [
    {
     "name": "stderr",
     "output_type": "stream",
     "text": [
      "C:\\Users\\Admin\\AppData\\Local\\Packages\\PythonSoftwareFoundation.Python.3.12_qbz5n2kfra8p0\\LocalCache\\local-packages\\Python312\\site-packages\\torch\\nn\\modules\\transformer.py:307: UserWarning: enable_nested_tensor is True, but self.use_nested_tensor is False because encoder_layer.self_attn.batch_first was not True(use batch_first for better inference performance)\n",
      "  warnings.warn(f\"enable_nested_tensor is True, but self.use_nested_tensor is False because {why_not_sparsity_fast_path}\")\n",
      "Epoch 1/10: 100%|██████████| 40/40 [00:03<00:00, 10.89it/s]\n"
     ]
    },
    {
     "name": "stdout",
     "output_type": "stream",
     "text": [
      "Epoch 1/10, Loss: 1.1986\n",
      "Test Metrics:\n",
      "Accuracy: 0.9018\n",
      "AUC: 0.9439\n",
      "F1 Score: 0.9027\n",
      "Precision: 0.8923\n",
      "Recall: 0.9134\n",
      "Specificity: 0.8903\n",
      "MCC: 0.8038\n",
      "AUPRC: 0.9368\n"
     ]
    },
    {
     "data": {
      "image/png": "[encoded data removed]",
      "text/plain": [
       "<Figure size 640x480 with 1 Axes>"
      ]
     },
     "metadata": {},
     "output_type": "display_data"
    },
    {
     "name": "stderr",
     "output_type": "stream",
     "text": [
      "Epoch 2/10: 100%|██████████| 40/40 [00:02<00:00, 14.35it/s]\n"
     ]
    },
    {
     "name": "stdout",
     "output_type": "stream",
     "text": [
      "Epoch 2/10, Loss: 0.7008\n",
      "Test Metrics:\n",
      "Accuracy: 0.9395\n",
      "AUC: 0.9722\n",
      "F1 Score: 0.9392\n",
      "Precision: 0.9415\n",
      "Recall: 0.9370\n",
      "Specificity: 0.9420\n",
      "MCC: 0.8790\n",
      "AUPRC: 0.9664\n"
     ]
    },
    {
     "data": {
      "image/png": "[encoded data removed]",
      "text/plain": [
       "<Figure size 640x480 with 1 Axes>"
      ]
     },
     "metadata": {},
     "output_type": "display_data"
    },
    {
     "name": "stderr",
     "output_type": "stream",
     "text": [
      "Epoch 3/10: 100%|██████████| 40/40 [00:02<00:00, 13.50it/s]\n"
     ]
    },
    {
     "name": "stdout",
     "output_type": "stream",
     "text": [
      "Epoch 3/10, Loss: 0.5305\n",
      "Test Metrics:\n",
      "Accuracy: 0.9403\n",
      "AUC: 0.9792\n",
      "F1 Score: 0.9393\n",
      "Precision: 0.9530\n",
      "Recall: 0.9260\n",
      "Specificity: 0.9545\n",
      "MCC: 0.8809\n",
      "AUPRC: 0.9750\n"
     ]
    },
    {
     "data": {
      "image/png": "[encoded data removed]",
      "text/plain": [
       "<Figure size 640x480 with 1 Axes>"
      ]
     },
     "metadata": {},
     "output_type": "display_data"
    },
    {
     "name": "stderr",
     "output_type": "stream",
     "text": [
      "Epoch 4/10: 100%|██████████| 40/40 [00:02<00:00, 14.34it/s]\n"
     ]
    },
    {
     "name": "stdout",
     "output_type": "stream",
     "text": [
      "Epoch 4/10, Loss: 0.4798\n",
      "Test Metrics:\n",
      "Accuracy: 0.9466\n",
      "AUC: 0.9853\n",
      "F1 Score: 0.9471\n",
      "Precision: 0.9355\n",
      "Recall: 0.9591\n",
      "Specificity: 0.9342\n",
      "MCC: 0.8935\n",
      "AUPRC: 0.9845\n"
     ]
    },
    {
     "data": {
      "image/png": "[encoded data removed]",
      "text/plain": [
       "<Figure size 640x480 with 1 Axes>"
      ]
     },
     "metadata": {},
     "output_type": "display_data"
    },
    {
     "name": "stderr",
     "output_type": "stream",
     "text": [
      "Epoch 5/10: 100%|██████████| 40/40 [00:02<00:00, 15.65it/s]\n"
     ]
    },
    {
     "name": "stdout",
     "output_type": "stream",
     "text": [
      "Epoch 5/10, Loss: 0.4582\n",
      "Test Metrics:\n",
      "Accuracy: 0.9301\n",
      "AUC: 0.9749\n",
      "F1 Score: 0.9295\n",
      "Precision: 0.9347\n",
      "Recall: 0.9244\n",
      "Specificity: 0.9357\n",
      "MCC: 0.8602\n",
      "AUPRC: 0.9775\n"
     ]
    },
    {
     "data": {
      "image/png": "[encoded data removed]",
      "text/plain": [
       "<Figure size 640x480 with 1 Axes>"
      ]
     },
     "metadata": {},
     "output_type": "display_data"
    },
    {
     "name": "stderr",
     "output_type": "stream",
     "text": [
      "Epoch 6/10: 100%|██████████| 40/40 [00:02<00:00, 13.58it/s]\n"
     ]
    },
    {
     "name": "stdout",
     "output_type": "stream",
     "text": [
      "Epoch 6/10, Loss: 0.5090\n",
      "Test Metrics:\n",
      "Accuracy: 0.9427\n",
      "AUC: 0.9810\n",
      "F1 Score: 0.9426\n",
      "Precision: 0.9418\n",
      "Recall: 0.9433\n",
      "Specificity: 0.9420\n",
      "MCC: 0.8853\n",
      "AUPRC: 0.9803\n"
     ]
    },
    {
     "data": {
      "image/png": "[encoded data removed]",
      "text/plain": [
       "<Figure size 640x480 with 1 Axes>"
      ]
     },
     "metadata": {},
     "output_type": "display_data"
    },
    {
     "name": "stderr",
     "output_type": "stream",
     "text": [
      "Epoch 7/10: 100%|██████████| 40/40 [00:02<00:00, 13.88it/s]\n"
     ]
    },
    {
     "name": "stdout",
     "output_type": "stream",
     "text": [
      "Epoch 7/10, Loss: 0.3653\n",
      "Test Metrics:\n",
      "Accuracy: 0.9592\n",
      "AUC: 0.9883\n",
      "F1 Score: 0.9591\n",
      "Precision: 0.9591\n",
      "Recall: 0.9591\n",
      "Specificity: 0.9592\n",
      "MCC: 0.9183\n",
      "AUPRC: 0.9912\n"
     ]
    },
    {
     "data": {
      "image/png": "[encoded data removed]",
      "text/plain": [
       "<Figure size 640x480 with 1 Axes>"
      ]
     },
     "metadata": {},
     "output_type": "display_data"
    },
    {
     "name": "stderr",
     "output_type": "stream",
     "text": [
      "Epoch 8/10: 100%|██████████| 40/40 [00:03<00:00, 12.84it/s]\n"
     ]
    },
    {
     "name": "stdout",
     "output_type": "stream",
     "text": [
      "Epoch 8/10, Loss: 0.3065\n",
      "Test Metrics:\n",
      "Accuracy: 0.9623\n",
      "AUC: 0.9895\n",
      "F1 Score: 0.9612\n",
      "Precision: 0.9884\n",
      "Recall: 0.9354\n",
      "Specificity: 0.9890\n",
      "MCC: 0.9259\n",
      "AUPRC: 0.9888\n"
     ]
    },
    {
     "data": {
      "image/png": "[encoded data removed]",
      "text/plain": [
       "<Figure size 640x480 with 1 Axes>"
      ]
     },
     "metadata": {},
     "output_type": "display_data"
    },
    {
     "name": "stderr",
     "output_type": "stream",
     "text": [
      "Epoch 9/10: 100%|██████████| 40/40 [00:02<00:00, 15.80it/s]\n"
     ]
    },
    {
     "name": "stdout",
     "output_type": "stream",
     "text": [
      "Epoch 9/10, Loss: 0.2703\n",
      "Test Metrics:\n",
      "Accuracy: 0.9717\n",
      "AUC: 0.9953\n",
      "F1 Score: 0.9711\n",
      "Precision: 0.9918\n",
      "Recall: 0.9512\n",
      "Specificity: 0.9922\n",
      "MCC: 0.9442\n",
      "AUPRC: 0.9965\n"
     ]
    },
    {
     "data": {
      "image/png": "[encoded data removed]",
      "text/plain": [
       "<Figure size 640x480 with 1 Axes>"
      ]
     },
     "metadata": {},
     "output_type": "display_data"
    },
    {
     "name": "stderr",
     "output_type": "stream",
     "text": [
      "Epoch 10/10: 100%|██████████| 40/40 [00:02<00:00, 14.65it/s]\n"
     ]
    },
    {
     "name": "stdout",
     "output_type": "stream",
     "text": [
      "Epoch 10/10, Loss: 0.2518\n",
      "Test Metrics:\n",
      "Accuracy: 0.9701\n",
      "AUC: 0.9949\n",
      "F1 Score: 0.9704\n",
      "Precision: 0.9599\n",
      "Recall: 0.9811\n",
      "Specificity: 0.9592\n",
      "MCC: 0.9405\n",
      "AUPRC: 0.9958\n"
     ]
    },
    {
     "data": {
      "image/png": "[encoded data removed]",
      "text/plain": [
       "<Figure size 640x480 with 1 Axes>"
      ]
     },
     "metadata": {},
     "output_type": "display_data"
    },
    {
     "name": "stdout",
     "output_type": "stream",
     "text": [
      "Test Metrics:\n",
      "Accuracy: 0.7367\n",
      "AUC: 0.8060\n",
      "F1 Score: 0.7273\n",
      "Precision: 0.7619\n",
      "Recall: 0.6957\n",
      "Specificity: 0.7785\n",
      "MCC: 0.4756\n",
      "AUPRC: 0.8274\n"
     ]
    },
    {
     "data": {
      "image/png": "[encoded data removed]",
      "text/plain": [
       "<Figure size 640x480 with 1 Axes>"
      ]
     },
     "metadata": {},
     "output_type": "display_data"
    }
   ],
   "source": [
    "# Example usage\n",
    "def main_training():\n",
    "    # Load data\n",
    "    train_loader, test_loader = get_train_test_loader()  # Assuming your main() function loads data and returns DataLoaders\n",
    "\n",
    "    # Model parameters\n",
    "    input_dims = [19, 500, 500, 500, 500, 800]  # Number of features for each modality\n",
    "    embed_dim = 128  # Common embedding dimension\n",
    "    num_heads = 4  # Number of attention heads\n",
    "    num_layers = 2  # Number of layers in the transformer encoders\n",
    "\n",
    "    # Initialize model, optimizer\n",
    "    device = torch.device(\"cuda\" if torch.cuda.is_available() else \"cpu\")\n",
    "    model = MultimodalModel(input_dims, embed_dim, num_heads, num_layers)\n",
    "    optimizer = optim.Adam(model.parameters(), lr=1e-3)\n",
    "\n",
    "    # Train the model\n",
    "    num_epochs = 10\n",
    "    train_model(model, train_loader, optimizer, num_epochs, device)\n",
    "\n",
    "    metrics = test_model(model, test_loader, device)\n",
    "\n",
    "\n",
    "if __name__ == \"__main__\":\n",
    "    main_training()"
   ]
  },
  {
   "cell_type": "code",
   "execution_count": 70,
   "metadata": {},
   "outputs": [
    {
     "name": "stderr",
     "output_type": "stream",
     "text": [
      "C:\\Users\\Admin\\AppData\\Local\\Packages\\PythonSoftwareFoundation.Python.3.12_qbz5n2kfra8p0\\LocalCache\\local-packages\\Python312\\site-packages\\torch\\nn\\modules\\transformer.py:307: UserWarning: enable_nested_tensor is True, but self.use_nested_tensor is False because encoder_layer.self_attn.batch_first was not True(use batch_first for better inference performance)\n",
      "  warnings.warn(f\"enable_nested_tensor is True, but self.use_nested_tensor is False because {why_not_sparsity_fast_path}\")\n",
      "Epoch 1/20: 100%|██████████| 40/40 [00:02<00:00, 19.01it/s]\n"
     ]
    },
    {
     "name": "stdout",
     "output_type": "stream",
     "text": [
      "Epoch 1/20, Loss: 19.9785\n"
     ]
    },
    {
     "name": "stderr",
     "output_type": "stream",
     "text": [
      "Epoch 2/20: 100%|██████████| 40/40 [00:01<00:00, 22.09it/s]\n"
     ]
    },
    {
     "name": "stdout",
     "output_type": "stream",
     "text": [
      "Epoch 2/20, Loss: 2.8506\n"
     ]
    },
    {
     "name": "stderr",
     "output_type": "stream",
     "text": [
      "Epoch 3/20: 100%|██████████| 40/40 [00:01<00:00, 23.03it/s]\n"
     ]
    },
    {
     "name": "stdout",
     "output_type": "stream",
     "text": [
      "Epoch 3/20, Loss: 2.1773\n"
     ]
    },
    {
     "name": "stderr",
     "output_type": "stream",
     "text": [
      "Epoch 4/20: 100%|██████████| 40/40 [00:01<00:00, 22.14it/s]\n"
     ]
    },
    {
     "name": "stdout",
     "output_type": "stream",
     "text": [
      "Epoch 4/20, Loss: 2.1318\n"
     ]
    },
    {
     "name": "stderr",
     "output_type": "stream",
     "text": [
      "Epoch 5/20: 100%|██████████| 40/40 [00:01<00:00, 22.91it/s]\n"
     ]
    },
    {
     "name": "stdout",
     "output_type": "stream",
     "text": [
      "Epoch 5/20, Loss: 1.9762\n"
     ]
    },
    {
     "name": "stderr",
     "output_type": "stream",
     "text": [
      "Epoch 6/20: 100%|██████████| 40/40 [00:02<00:00, 17.68it/s]\n"
     ]
    },
    {
     "name": "stdout",
     "output_type": "stream",
     "text": [
      "Epoch 6/20, Loss: 2.1087\n"
     ]
    },
    {
     "name": "stderr",
     "output_type": "stream",
     "text": [
      "Epoch 7/20: 100%|██████████| 40/40 [00:01<00:00, 22.08it/s]\n"
     ]
    },
    {
     "name": "stdout",
     "output_type": "stream",
     "text": [
      "Epoch 7/20, Loss: 2.3999\n"
     ]
    },
    {
     "name": "stderr",
     "output_type": "stream",
     "text": [
      "Epoch 8/20: 100%|██████████| 40/40 [00:02<00:00, 19.78it/s]\n"
     ]
    },
    {
     "name": "stdout",
     "output_type": "stream",
     "text": [
      "Epoch 8/20, Loss: 2.1049\n"
     ]
    },
    {
     "name": "stderr",
     "output_type": "stream",
     "text": [
      "Epoch 9/20: 100%|██████████| 40/40 [00:02<00:00, 19.92it/s]\n"
     ]
    },
    {
     "name": "stdout",
     "output_type": "stream",
     "text": [
      "Epoch 9/20, Loss: 2.2047\n"
     ]
    },
    {
     "name": "stderr",
     "output_type": "stream",
     "text": [
      "Epoch 10/20: 100%|██████████| 40/40 [00:01<00:00, 22.60it/s]\n"
     ]
    },
    {
     "name": "stdout",
     "output_type": "stream",
     "text": [
      "Epoch 10/20, Loss: 2.1033\n"
     ]
    },
    {
     "name": "stderr",
     "output_type": "stream",
     "text": [
      "Epoch 11/20: 100%|██████████| 40/40 [00:01<00:00, 22.34it/s]\n"
     ]
    },
    {
     "name": "stdout",
     "output_type": "stream",
     "text": [
      "Epoch 11/20, Loss: 1.6458\n"
     ]
    },
    {
     "name": "stderr",
     "output_type": "stream",
     "text": [
      "Epoch 12/20: 100%|██████████| 40/40 [00:01<00:00, 23.34it/s]\n"
     ]
    },
    {
     "name": "stdout",
     "output_type": "stream",
     "text": [
      "Epoch 12/20, Loss: 2.1789\n"
     ]
    },
    {
     "name": "stderr",
     "output_type": "stream",
     "text": [
      "Epoch 13/20: 100%|██████████| 40/40 [00:01<00:00, 23.80it/s]\n"
     ]
    },
    {
     "name": "stdout",
     "output_type": "stream",
     "text": [
      "Epoch 13/20, Loss: 1.4404\n"
     ]
    },
    {
     "name": "stderr",
     "output_type": "stream",
     "text": [
      "Epoch 14/20: 100%|██████████| 40/40 [00:01<00:00, 22.88it/s]\n"
     ]
    },
    {
     "name": "stdout",
     "output_type": "stream",
     "text": [
      "Epoch 14/20, Loss: 1.6441\n"
     ]
    },
    {
     "name": "stderr",
     "output_type": "stream",
     "text": [
      "Epoch 15/20: 100%|██████████| 40/40 [00:02<00:00, 19.79it/s]\n"
     ]
    },
    {
     "name": "stdout",
     "output_type": "stream",
     "text": [
      "Epoch 15/20, Loss: 1.5396\n"
     ]
    },
    {
     "name": "stderr",
     "output_type": "stream",
     "text": [
      "Epoch 16/20: 100%|██████████| 40/40 [00:01<00:00, 22.88it/s]\n"
     ]
    },
    {
     "name": "stdout",
     "output_type": "stream",
     "text": [
      "Epoch 16/20, Loss: 1.5812\n"
     ]
    },
    {
     "name": "stderr",
     "output_type": "stream",
     "text": [
      "Epoch 17/20: 100%|██████████| 40/40 [00:01<00:00, 23.79it/s]\n"
     ]
    },
    {
     "name": "stdout",
     "output_type": "stream",
     "text": [
      "Epoch 17/20, Loss: 1.7500\n"
     ]
    },
    {
     "name": "stderr",
     "output_type": "stream",
     "text": [
      "Epoch 18/20: 100%|██████████| 40/40 [00:01<00:00, 23.76it/s]\n"
     ]
    },
    {
     "name": "stdout",
     "output_type": "stream",
     "text": [
      "Epoch 18/20, Loss: 2.1221\n"
     ]
    },
    {
     "name": "stderr",
     "output_type": "stream",
     "text": [
      "Epoch 19/20: 100%|██████████| 40/40 [00:01<00:00, 22.64it/s]\n"
     ]
    },
    {
     "name": "stdout",
     "output_type": "stream",
     "text": [
      "Epoch 19/20, Loss: 1.3704\n"
     ]
    },
    {
     "name": "stderr",
     "output_type": "stream",
     "text": [
      "Epoch 20/20: 100%|██████████| 40/40 [00:01<00:00, 23.82it/s]"
     ]
    },
    {
     "name": "stdout",
     "output_type": "stream",
     "text": [
      "Epoch 20/20, Loss: 1.6553\n"
     ]
    },
    {
     "name": "stderr",
     "output_type": "stream",
     "text": [
      "\n"
     ]
    }
   ],
   "source": [
    "import torch\n",
    "import torch.nn as nn\n",
    "import torch.nn.functional as F\n",
    "from torch.utils.data import DataLoader, Dataset\n",
    "from tqdm import tqdm\n",
    "\n",
    "# Define the Modality Encoder\n",
    "class ModalityEncoder(nn.Module):\n",
    "    def __init__(self, input_dim, embed_dim, num_heads, num_layers):\n",
    "        super(ModalityEncoder, self).__init__()\n",
    "        self.input_proj = nn.Linear(input_dim, embed_dim)\n",
    "        encoder_layer = nn.TransformerEncoderLayer(d_model=embed_dim, nhead=num_heads)\n",
    "        self.transformer = nn.TransformerEncoder(encoder_layer, num_layers=num_layers)\n",
    "\n",
    "    def forward(self, x):\n",
    "        x = self.input_proj(x)\n",
    "        return self.transformer(x)\n",
    "\n",
    "class CrossAttentionLayer(nn.Module):\n",
    "    def __init__(self, embed_dim, num_heads):\n",
    "        super(CrossAttentionLayer, self).__init__()\n",
    "        self.multihead_attn = nn.MultiheadAttention(embed_dim=embed_dim, num_heads=num_heads)\n",
    "\n",
    "    def forward(self, query, key, value):\n",
    "        \"\"\"\n",
    "        Args:\n",
    "            query: Tensor of shape (seq_len, batch_size, embed_dim).\n",
    "            key, value: Tensors of shape (seq_len, batch_size, embed_dim).\n",
    "        Returns:\n",
    "            Fused representation of shape (seq_len, batch_size, embed_dim).\n",
    "        \"\"\"\n",
    "        attn_output, _ = self.multihead_attn(query, key, value)\n",
    "        return attn_output\n",
    "\n",
    "# Define the full model\n",
    "class MultimodalModel(nn.Module):\n",
    "    def __init__(self, input_dims, embed_dim, num_heads, num_layers):\n",
    "        super(MultimodalModel, self).__init__()\n",
    "        self.modality_encoders = nn.ModuleList([\n",
    "            ModalityEncoder(input_dim, embed_dim, num_heads, num_layers) for input_dim in input_dims\n",
    "        ])\n",
    "        self.cross_attention = CrossAttentionLayer(embed_dim, num_heads)\n",
    "        self.classification_head = nn.Sequential(\n",
    "            nn.Linear(embed_dim, embed_dim),\n",
    "            nn.ReLU(),\n",
    "            nn.Linear(embed_dim, 1),\n",
    "            nn.Sigmoid()\n",
    "        )\n",
    "\n",
    "    def forward(self, modalities, return_embeddings=False):\n",
    "        # Encode each modality\n",
    "        encoded_modalities = [encoder(modality) for encoder, modality in zip(self.modality_encoders, modalities)]\n",
    "\n",
    "        if return_embeddings:\n",
    "            return encoded_modalities  # Return embeddings for contrastive loss\n",
    "\n",
    "        # Apply cross-attention\n",
    "        query = encoded_modalities[0]\n",
    "        keys_values = torch.cat(encoded_modalities[1:], dim=0)\n",
    "        fused_representation = self.cross_attention(query, keys_values, keys_values)\n",
    "        \n",
    "        predictions = self.classification_head(fused_representation)\n",
    "        return predictions\n",
    "\n",
    "# Define Contrastive Loss\n",
    "class ContrastiveLoss(nn.Module):\n",
    "    def __init__(self, margin=1.0):\n",
    "        super(ContrastiveLoss, self).__init__()\n",
    "        self.margin = margin\n",
    "\n",
    "    def forward(self, embeddings1, embeddings2, labels):\n",
    "        distances = F.pairwise_distance(embeddings1, embeddings2)\n",
    "        loss = labels * distances.pow(2) + (1 - labels) * F.relu(self.margin - distances).pow(2)\n",
    "        return loss.mean()\n",
    "\n",
    "# Training function\n",
    "def train_model_with_contrastive_loss(model, train_loader, optimizer, contrastive_loss_fn, num_epochs, device=\"cpu\"):\n",
    "    model.to(device)\n",
    "    model.train()\n",
    "\n",
    "    for epoch in range(num_epochs):\n",
    "        epoch_loss = 0\n",
    "        for batch in tqdm(train_loader, desc=f\"Epoch {epoch+1}/{num_epochs}\"):\n",
    "            # Move batch data to the device\n",
    "            modalities = [modality.to(device) for modality in batch[:-1]]\n",
    "            labels = batch[-1].to(device)  # Binary labels\n",
    "\n",
    "            # Forward pass through encoders\n",
    "            optimizer.zero_grad()\n",
    "            encoded_modalities = [encoder(modality) for encoder, modality in zip(model.modality_encoders, modalities)]\n",
    "\n",
    "            # Compute contrastive loss for each pair of modalities\n",
    "            contrastive_loss = 0\n",
    "            for i in range(len(encoded_modalities)):\n",
    "                for j in range(len(encoded_modalities)):\n",
    "                    if i == j:\n",
    "                        continue\n",
    "\n",
    "                    embeddings1 = encoded_modalities[i].mean(dim=0)  # Aggregate over sequence dim\n",
    "                    embeddings2 = encoded_modalities[j].mean(dim=0)\n",
    "\n",
    "                    # Create labels for pairs: 1 for similar (positive-positive, negative-negative), 0 for dissimilar\n",
    "                    pair_labels = (labels[i] == labels[j]).float()\n",
    "                    contrastive_loss += contrastive_loss_fn(embeddings1, embeddings2, pair_labels)\n",
    "\n",
    "            # Combine contrastive loss with classification loss\n",
    "            predictions = model(modalities).squeeze(-1)  # Only remove the last dimension if it's 1\n",
    "            labels = labels.view(-1)  # Ensure labels are flat\n",
    "            # Compute classification loss\n",
    "            classification_loss = F.binary_cross_entropy(predictions, labels.float())\n",
    "\n",
    "            loss = contrastive_loss + classification_loss\n",
    "\n",
    "            # Backward pass and optimization\n",
    "            loss.backward()\n",
    "            optimizer.step()\n",
    "\n",
    "            epoch_loss += loss.item()\n",
    "\n",
    "        avg_loss = epoch_loss / len(train_loader)\n",
    "        print(f\"Epoch {epoch+1}/{num_epochs}, Loss: {avg_loss:.4f}\")\n",
    "\n",
    "train_loader, test_loader = get_train_test_loader()  # Assuming your main() function loads data and returns DataLoaders\n",
    "\n",
    "# Model parameters\n",
    "input_dims = [19, 500]\n",
    "embed_dim = 128\n",
    "num_heads = 4\n",
    "num_layers = 2\n",
    "num_epochs = 20\n",
    "\n",
    "\n",
    "\n",
    "# Initialize model, optimizer, and loss function\n",
    "model = MultimodalModel(input_dims, embed_dim, num_heads, num_layers)\n",
    "optimizer = torch.optim.Adam(model.parameters(), lr=1e-3)\n",
    "contrastive_loss_fn = ContrastiveLoss(margin=1.0)\n",
    "\n",
    "# Train the model\n",
    "train_model_with_contrastive_loss(model, train_loader, optimizer, contrastive_loss_fn, num_epochs, device=\"cuda\" if torch.cuda.is_available() else \"cpu\")\n"
   ]
  },
  {
   "cell_type": "code",
   "execution_count": 71,
   "metadata": {},
   "outputs": [
    {
     "name": "stderr",
     "output_type": "stream",
     "text": [
      "Evaluating: 100%|██████████| 10/10 [00:00<00:00, 104.07it/s]\n"
     ]
    },
    {
     "data": {
      "image/png": "[encoded data removed]",
      "text/plain": [
       "<Figure size 640x480 with 1 Axes>"
      ]
     },
     "metadata": {},
     "output_type": "display_data"
    },
    {
     "name": "stdout",
     "output_type": "stream",
     "text": [
      "Test Loss: 0.9905, Accuracy: 0.7273\n",
      "AUC: 0.7929, F1 Score: 0.7148\n"
     ]
    }
   ],
   "source": [
    "import torch\n",
    "import torch.nn.functional as F\n",
    "from tqdm import tqdm\n",
    "\n",
    "def evaluate_model(model, test_loader, contrastive_loss_fn=None, device=\"cpu\"):\n",
    "    model.to(device)\n",
    "    model.eval()\n",
    "\n",
    "    total_loss = 0\n",
    "    total_correct = 0\n",
    "    total_samples = 0\n",
    "    all_predictions = []\n",
    "    all_labels = []\n",
    "\n",
    "    with torch.no_grad():\n",
    "        for batch in tqdm(test_loader, desc=\"Evaluating\"):\n",
    "            # Move batch data to the device\n",
    "            modalities = [modality.to(device) for modality in batch[:-1]]\n",
    "            labels = batch[-1].to(device)  # Binary labels\n",
    "\n",
    "            # Forward pass through the model\n",
    "            predictions = model(modalities).squeeze(-1)  # Remove last dimension if it's 1\n",
    "\n",
    "            # Compute classification loss\n",
    "            labels = labels.view(-1)  # Ensure labels are flat\n",
    "            classification_loss = F.binary_cross_entropy(predictions, labels.float())\n",
    "            total_loss += classification_loss.item()\n",
    "\n",
    "            # Calculate accuracy\n",
    "            predicted_classes = (predictions > 0.5).float()\n",
    "            total_correct += (predicted_classes == labels).sum().item()\n",
    "            total_samples += labels.size(0)\n",
    "\n",
    "            # Store predictions and labels for further evaluation\n",
    "            all_predictions.extend(predictions.cpu().tolist())\n",
    "            all_labels.extend(labels.cpu().tolist())\n",
    "\n",
    "            # If contrastive loss is needed for evaluation (optional):\n",
    "            if contrastive_loss_fn:\n",
    "                encoded_modalities = [encoder(modality) for encoder, modality in zip(model.modality_encoders, modalities)]\n",
    "                contrastive_loss = 0\n",
    "                for i in range(len(encoded_modalities)):\n",
    "                    for j in range(len(encoded_modalities)):\n",
    "                        if i == j:\n",
    "                            continue\n",
    "                        embeddings1 = encoded_modalities[i].mean(dim=0)\n",
    "                        embeddings2 = encoded_modalities[j].mean(dim=0)\n",
    "                        pair_labels = (labels[i] == labels[j]).float()\n",
    "                        contrastive_loss += contrastive_loss_fn(embeddings1, embeddings2, pair_labels)\n",
    "                total_loss += contrastive_loss.item()\n",
    "\n",
    "    avg_loss = total_loss / len(test_loader)\n",
    "    accuracy = total_correct / total_samples\n",
    "    auc = roc_auc_score(all_labels, all_predictions)\n",
    "    f1 = f1_score(all_labels, [int(p > 0.5) for p in all_predictions])\n",
    "    cm = confusion_matrix(all_labels, [int(p > 0.5) for p in all_predictions])\n",
    "\n",
    "    # plot confusion matrix\n",
    "    sns.heatmap(cm, annot=True, fmt='d', cmap='Blues', cbar=False)\n",
    "    plt.xlabel('Predicted')\n",
    "    plt.ylabel('True')\n",
    "    plt.title('Confusion Matrix')\n",
    "    plt.show()\n",
    "    \n",
    "\n",
    "    print(f\"Test Loss: {avg_loss:.4f}, Accuracy: {accuracy:.4f}\")\n",
    "    print(f\"AUC: {auc:.4f}, F1 Score: {f1:.4f}\")\n",
    "\n",
    "    return all_predictions, all_labels, avg_loss, accuracy\n",
    "\n",
    "\n",
    "# Run the evaluation\n",
    "device = \"cuda\" if torch.cuda.is_available() else \"cpu\"\n",
    "all_predictions, all_labels, avg_loss, accuracy = evaluate_model(\n",
    "    model, test_loader, contrastive_loss_fn, device=device\n",
    ")"
   ]
  }
 ],
 "metadata": {
  "kernelspec": {
   "display_name": "Python 3",
   "language": "python",
   "name": "python3"
  },
  "language_info": {
   "codemirror_mode": {
    "name": "ipython",
    "version": 3
   },
   "file_extension": ".py",
   "mimetype": "text/x-python",
   "name": "python",
   "nbconvert_exporter": "python",
   "pygments_lexer": "ipython3",
   "version": "3.12.8"
  }
 },
 "nbformat": 4,
 "nbformat_minor": 2
}
